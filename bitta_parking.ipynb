{
 "cells": [
  {
   "cell_type": "markdown",
   "metadata": {},
   "source": [
    "# Bitta Parking\n",
    "Il Bitta parking è un parcheggio a cinque livelli con numero variabile di posti, riservato esclusivamente agli Alfisti"
   ]
  },
  {
   "cell_type": "code",
   "execution_count": 1,
   "metadata": {},
   "outputs": [],
   "source": [
    "from datetime import datetime\n"
   ]
  },
  {
   "cell_type": "code",
   "execution_count": 2,
   "metadata": {},
   "outputs": [],
   "source": [
    "parking = {\"level1\":{\"total_lot\": 10,\n",
    "                    \"taken_lot\": 5},\n",
    "           \"level2\":{\"total_lot\": 20,\n",
    "                    \"taken_lot\": 7},         \n",
    "           \"level3\":{\"total_lot\": 39,\n",
    "                    \"taken_lot\": 38},\n",
    "            \"level4\":{\"total_lot\": 50,\n",
    "                    \"taken_lot\": 50},\n",
    "            \"level5\":{\"total_lot\": 5,\n",
    "                    \"taken_lot\": 0}              \n",
    "            }"
   ]
  },
  {
   "cell_type": "code",
   "execution_count": 3,
   "metadata": {},
   "outputs": [],
   "source": [
    "auto = {\"AX555LM\": {\"entry\": datetime.now(), \n",
    "                    \"level\": \"level1\"},\n",
    "        \"CJ687LI\": {\"entry\": datetime.now(), \n",
    "                    \"level\": \"level3\"}\n",
    "            }"
   ]
  },
  {
   "cell_type": "markdown",
   "metadata": {},
   "source": [
    "## Requisiti:\n",
    "- occupiamo prima i piani inferiori\n",
    "- ultimo piano riservato ai Bitta\n",
    "- i clienti pagano in base alla permanenza una quota proporzionata(50€/h)\n",
    "- sono accettati escluivamente possessori di Alfa Romeo e Camper\n"
   ]
  },
  {
   "cell_type": "code",
   "execution_count": 4,
   "metadata": {},
   "outputs": [],
   "source": [
    "# Check if the vehicle is an Alfa or a Camper\n",
    "def check_vehicle():\n",
    "    answer = input(\"Is this vehicle an Alfa or a Camper? [Y/N]\").lower()\n",
    "    if answer == \"y\": \n",
    "        return True \n",
    "    elif answer == \"n\":\n",
    "        return False\n",
    "    else:\n",
    "        check_vehicle()"
   ]
  },
  {
   "cell_type": "code",
   "execution_count": 5,
   "metadata": {},
   "outputs": [],
   "source": [
    "# Check if the driver is a member of the Bitta's family\n",
    "def is_Bitta():\n",
    "    answer = input(\"Are you a Bitta? [Y/N]\").lower()\n",
    "    if answer == \"y\": \n",
    "        return True \n",
    "    elif answer == \"n\":\n",
    "        return False\n",
    "    else:\n",
    "        is_Bitta()"
   ]
  },
  {
   "cell_type": "code",
   "execution_count": 6,
   "metadata": {},
   "outputs": [
    {
     "data": {
      "text/plain": [
       "5"
      ]
     },
     "execution_count": 6,
     "metadata": {},
     "output_type": "execute_result"
    }
   ],
   "source": [
    "parking[\"level5\"][\"total_lot\"]"
   ]
  },
  {
   "cell_type": "code",
   "execution_count": 7,
   "metadata": {},
   "outputs": [],
   "source": [
    "# Check if Bitta's spots are available\n",
    "def check_Bitta_spot_available():\n",
    "    total_lot = parking[\"level5\"][\"total_lot\"]\n",
    "    taken_lot = parking[\"level5\"][\"taken_lot\"]\n",
    "    spot_available = (total_lot - taken_lot) > 0\n",
    "    return spot_available\n"
   ]
  },
  {
   "cell_type": "code",
   "execution_count": 8,
   "metadata": {},
   "outputs": [],
   "source": [
    "# Check standard spots available\n",
    "def check_standard_spot_available():\n",
    "    for level, level_info in parking.items():\n",
    "        if level == \"level5\":\n",
    "            break\n",
    "        total_lot = level_info[\"total_lot\"]\n",
    "        taken_lot = level_info[\"taken_lot\"]\n",
    "        spot_available = (total_lot - taken_lot) > 0\n",
    "        if spot_available:\n",
    "            return spot_available, level\n",
    "    return spot_available, level\n",
    "        "
   ]
  },
  {
   "cell_type": "code",
   "execution_count": 9,
   "metadata": {},
   "outputs": [],
   "source": [
    "def add_taken_spot(level):\n",
    "    parking[level][\"taken_lot\"] += 1\n",
    "    "
   ]
  },
  {
   "cell_type": "code",
   "execution_count": 10,
   "metadata": {},
   "outputs": [],
   "source": [
    "def add_auto_to(level):\n",
    "    plate = input(\"Insert license plate: \").upper()\n",
    "    auto[plate] ={} # add plate to auto\n",
    "    auto[plate][\"entry\"] = datetime.now() # add entry time\n",
    "    auto[plate][\"level\"] = level # add level "
   ]
  },
  {
   "cell_type": "code",
   "execution_count": 11,
   "metadata": {},
   "outputs": [],
   "source": [
    "def add_auto(level):\n",
    "    add_auto_to(level)\n",
    "    add_taken_spot(level)"
   ]
  },
  {
   "cell_type": "code",
   "execution_count": 12,
   "metadata": {},
   "outputs": [],
   "source": [
    "def remove_taken_spot(level):\n",
    "    parking[level][\"taken_lot\"] -= 1"
   ]
  },
  {
   "cell_type": "code",
   "execution_count": null,
   "metadata": {},
   "outputs": [],
   "source": [
    "def get_auto_info(plate):\n",
    "    plate_dict = auto[plate] # select info about the plate\n",
    "    entry_time = plate_dict[\"entry\"] # take entry time\n",
    "    level = plate_dict[\"level\"] # get the level\n",
    "    return level, entry_time"
   ]
  },
  {
   "cell_type": "code",
   "execution_count": 13,
   "metadata": {},
   "outputs": [],
   "source": [
    "def remove_auto(plate):\n",
    "    plate_dict = auto[plate] # select info about the plate\n",
    "    entry_time = plate_dict[\"entry\"] # take entry time\n",
    "    level = plate_dict[\"level\"] # get the level\n",
    "    return\n",
    "# calcolare il prezzo da pagare\n",
    "# rimuovere l'auto dal dizionario\n"
   ]
  },
  {
   "cell_type": "code",
   "execution_count": 14,
   "metadata": {},
   "outputs": [],
   "source": [
    "#rimuovere l'auto dal dizionario\n",
    "def remove_plate(plate):\n",
    "    del auto[plate]"
   ]
  },
  {
   "cell_type": "code",
   "execution_count": 15,
   "metadata": {},
   "outputs": [],
   "source": [
    "def calculate_hours(entryTime):\n",
    "    diff = datetime.now() - entryTime\n",
    "    hours = diff.total_seconds() // 3600 # how many 3600 are in diff.total_seconds\n",
    "    return hours + 1"
   ]
  },
  {
   "cell_type": "code",
   "execution_count": 16,
   "metadata": {},
   "outputs": [],
   "source": [
    "def calculate_fare(hours):\n",
    "    hour_fare = 50\n",
    "    fare = hours * 50\n",
    "    return fare"
   ]
  },
  {
   "cell_type": "code",
   "execution_count": 17,
   "metadata": {},
   "outputs": [],
   "source": [
    "def auto_in():\n",
    "    is_alfa = check_vehicle()\n",
    "    if not is_alfa:\n",
    "        print(\"your're not allowed\")\n",
    "        return\n",
    "    is_bitta = is_Bitta()\n",
    "    if is_bitta:\n",
    "        spot_avaiable = check_Bitta_spot_available()\n",
    "        if not spot_avaiable:\n",
    "            print(\"There's not a spot avaiable for a Bitta\")\n",
    "            return\n",
    "        else:\n",
    "            selected_level = \"level5\"\n",
    "    #standad client\n",
    "    else:\n",
    "        spot_avaiable, level = check_standard_spot_available()\n",
    "        if not spot_avaiable:\n",
    "            print(\"There's not spot avaiable\")\n",
    "            return\n",
    "        else:\n",
    "            selected_level = level\n",
    "    \n",
    "    add_auto(selected_level)\n",
    "    print(f\"Livello {selected_level}\")"
   ]
  },
  {
   "cell_type": "code",
   "execution_count": null,
   "metadata": {},
   "outputs": [],
   "source": [
    "def remove(level, plate, entry):\n",
    "    remove_auto(level)\n",
    "    remove_plate(plate)\n",
    "    remove_taken_spot(level)\n",
    "    hours = calculate_hours(entry_time = entry)\n",
    "    fare = calculate_fare(hours)\n",
    "    return fare"
   ]
  },
  {
   "cell_type": "code",
   "execution_count": null,
   "metadata": {},
   "outputs": [],
   "source": [
    "def auto_out():\n",
    "    auto_plate = input(\"Enter plate\")\n",
    "    if not auto_plate in auto.keys():\n",
    "        print(\"there's not car plate\")\n",
    "        return\n",
    "    level, entry = get_auto_info(plate = auto_plate)\n",
    "    \n",
    "    print(f\"your fare {remove(level, auto_plate, entry)}\")\n"
   ]
  },
  {
   "cell_type": "code",
   "execution_count": 18,
   "metadata": {},
   "outputs": [],
   "source": [
    "auto_in()\n",
    "print(f\"Parcheggio {parking}\")\n",
    "print(f\"auto??? {auto}\")"
   ]
  }
 ],
 "metadata": {
  "kernelspec": {
   "display_name": ".venv",
   "language": "python",
   "name": "python3"
  },
  "language_info": {
   "codemirror_mode": {
    "name": "ipython",
    "version": 3
   },
   "file_extension": ".py",
   "mimetype": "text/x-python",
   "name": "python",
   "nbconvert_exporter": "python",
   "pygments_lexer": "ipython3",
   "version": "3.12.8"
  }
 },
 "nbformat": 4,
 "nbformat_minor": 2
}
