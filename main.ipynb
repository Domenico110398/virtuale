{
 "cells": [
  {
   "cell_type": "code",
   "execution_count": 1,
   "metadata": {},
   "outputs": [
    {
     "name": "stdout",
     "output_type": "stream",
     "text": [
      "se ni mondo esistesse un pò di bene\n"
     ]
    }
   ],
   "source": [
    "a = \"se ni mondo\"\n",
    "b = \"esistesse un pò di bene\"\n",
    "print(a + \" \" + b)\n",
    "print(\"Sto nel branch virtuale ma mondifico un file Main\")\n",
    "print(\"andato il merge, male però\")\n",
    "#pacciani"
   ]
  },
  {
   "cell_type": "code",
   "execution_count": 1,
   "metadata": {},
   "outputs": [
    {
     "name": "stdout",
     "output_type": "stream",
     "text": [
      "Enter your Name\n",
      "trre\n",
      "tre\n",
      "Welcome, tre, your username is trre and your code is tre\n"
     ]
    }
   ],
   "source": [
    "print(\"Enter your Name\")\n",
    "while True:\n",
    "    name = input()\n",
    "    if len(name) < 15 and len(name)>3:\n",
    "        break\n",
    "    else:\n",
    "        print(f\"Name length = {len(name)}. Please enter a valid name.\")\n",
    "        \n",
    "\n",
    "username = name[0:2] + name[-2:]\n",
    "print(username)\n",
    "\n",
    "code = name[int(len(name)/2)-1:int(len(name)/2)+2]\n",
    "print(code)\n",
    "\n",
    "print(f\"Welcome, {name}, your username is {username} and your code is {code}\")"
   ]
  },
  {
   "cell_type": "code",
   "execution_count": 4,
   "metadata": {},
   "outputs": [
    {
     "name": "stdout",
     "output_type": "stream",
     "text": [
      "The sky is blue.\n",
      "Today's highlighted word is: SKY\n"
     ]
    }
   ],
   "source": [
    "string = 'The sky is blue.' #quote\n",
    "print(string)   #print the string\n",
    "slice = string[4:7].upper()   #slice the string and convert to uppercase\n",
    "print(f\"Today's highlighted word is: {slice}\")    #print the sliced string"
   ]
  },
  {
   "cell_type": "code",
   "execution_count": 9,
   "metadata": {},
   "outputs": [],
   "source": [
    "def print_a_letter_of(string, index = -1): #definiamo index di defaul nel caso non venga passato\n",
    "    letter = string[index]\n",
    "    print(f\"The letter at index {index} is {letter}\")"
   ]
  },
  {
   "cell_type": "code",
   "execution_count": 11,
   "metadata": {},
   "outputs": [
    {
     "name": "stdout",
     "output_type": "stream",
     "text": [
      "The letter at index 3 is  \n"
     ]
    }
   ],
   "source": [
    "quote = \"The sky is blue.\" #quote\n",
    "print_a_letter_of(quote, 3)"
   ]
  },
  {
   "cell_type": "code",
   "execution_count": 9,
   "metadata": {},
   "outputs": [
    {
     "name": "stdout",
     "output_type": "stream",
     "text": [
      "1 1\n"
     ]
    }
   ],
   "source": [
    "b = 4\n",
    "a = 3\n",
    "c = int(b / a)\n",
    "d = b % a\n",
    "\n",
    "print(c, d)"
   ]
  },
  {
   "cell_type": "code",
   "execution_count": 10,
   "metadata": {},
   "outputs": [
    {
     "name": "stdout",
     "output_type": "stream",
     "text": [
      "35\n"
     ]
    }
   ],
   "source": [
    "numbers = [3, 5, 7, 9, 11]\n",
    "sum = 0\n",
    "\n",
    "for n in numbers:\n",
    "    sum += n\n",
    "\n",
    "print(sum)"
   ]
  },
  {
   "cell_type": "code",
   "execution_count": 13,
   "metadata": {},
   "outputs": [
    {
     "name": "stdout",
     "output_type": "stream",
     "text": [
      "398 / 5 = \n",
      "79.6\n"
     ]
    }
   ],
   "source": [
    "numbers = [83, 85, 72, 63, 95]\n",
    "sum = 0\n",
    "\n",
    "for n in numbers:\n",
    "    sum += n\n",
    "    \n",
    "num = len(numbers)\n",
    "print(str(sum) + \" / \" + str(num) + \" = \")\n",
    "print(sum / num)"
   ]
  },
  {
   "cell_type": "code",
   "execution_count": 14,
   "metadata": {},
   "outputs": [
    {
     "name": "stdout",
     "output_type": "stream",
     "text": [
      "Min price: 5\n",
      "Max price: 25\n"
     ]
    }
   ],
   "source": [
    "prices = [5, 10, 15, 20, 25]\n",
    "\n",
    "print(\"Min price: \" + str(min(prices)))\n",
    "print(\"Max price: \" + str(max(prices)))"
   ]
  },
  {
   "cell_type": "code",
   "execution_count": 23,
   "metadata": {},
   "outputs": [
    {
     "name": "stdout",
     "output_type": "stream",
     "text": [
      "The number of vowels in the sentence is: 11\n"
     ]
    }
   ],
   "source": [
    "# Sentence to analyze\n",
    "sentence = \"The quick brown fox jumps over the lazy dog.\"\n",
    "\n",
    "# Vowels to check\n",
    "vowels = \"aeiouAEIOU\"\n",
    "\n",
    "# Count the vowels in the sentence using builtins.sum\n",
    "vowel_count = 0\n",
    "\n",
    "for char in sentence :\n",
    "    if char in vowels:\n",
    "        vowel_count += 1\n",
    "\n",
    "# Print the result\n",
    "print(f\"The number of vowels in the sentence is: {vowel_count}\")\n"
   ]
  },
  {
   "cell_type": "code",
   "execution_count": 24,
   "metadata": {},
   "outputs": [
    {
     "name": "stdout",
     "output_type": "stream",
     "text": [
      "[1, 3, 5, 7, 9]\n"
     ]
    }
   ],
   "source": [
    "list_of_numbers = [1, 2, 3, 4, 5, 6, 7, 8, 9, 10]\n",
    "list_of_odd_numbers = []\n",
    "\n",
    "for n in list_of_numbers:\n",
    "    if n % 2 != 0:\n",
    "        list_of_odd_numbers.append(n)\n",
    "\n",
    "print(list_of_odd_numbers)"
   ]
  },
  {
   "cell_type": "code",
   "execution_count": 25,
   "metadata": {},
   "outputs": [
    {
     "name": "stdout",
     "output_type": "stream",
     "text": [
      "[1, 3, 5, 7, 9]\n"
     ]
    }
   ],
   "source": [
    "list_of_numbers = [1, 2, 3, 4, 5, 6, 7, 8, 9, 10]\n",
    "\n",
    "for n in list_of_numbers:\n",
    "    if n % 2 == 0:\n",
    "        list_of_numbers.remove(n)\n",
    "\n",
    "print(list_of_numbers)"
   ]
  },
  {
   "cell_type": "code",
   "execution_count": 26,
   "metadata": {},
   "outputs": [
    {
     "name": "stdout",
     "output_type": "stream",
     "text": [
      "['apple', 'banana', 'cherry']\n",
      "[1, 3, 5]\n"
     ]
    }
   ],
   "source": [
    "list = [1, \"apple\", 3, \"banana\", 5, \"cherry\"]\n",
    "\n",
    "fruit_list = []\n",
    "number_list = []\n",
    "\n",
    "for item in list:\n",
    "    if type(item) == str:\n",
    "        fruit_list.append(item)\n",
    "    else:\n",
    "        number_list.append(item)\n",
    "\n",
    "print(fruit_list)\n",
    "print(number_list)"
   ]
  },
  {
   "cell_type": "code",
   "execution_count": 30,
   "metadata": {},
   "outputs": [
    {
     "name": "stdout",
     "output_type": "stream",
     "text": [
      "14.99 Type = <class 'float'>\n",
      "14 Type = <class 'int'>\n",
      "$14 Type = <class 'str'>\n"
     ]
    }
   ],
   "source": [
    "price = 14.99\n",
    "new_price = int(price)\n",
    "price_tag = f\"${new_price}\"\n",
    "\n",
    "print(str(price) + \" Type = \" + str(type(price)))  \n",
    "print(str(new_price) + \" Type = \" + str(type(new_price)))\n",
    "print(str(price_tag) + \" Type = \" + str(type(price_tag)))"
   ]
  },
  {
   "cell_type": "code",
   "execution_count": 35,
   "metadata": {},
   "outputs": [
    {
     "name": "stdout",
     "output_type": "stream",
     "text": [
      "Very amount = $1234.56789, Amount in USD: $1234.57\n"
     ]
    }
   ],
   "source": [
    "amount_in_usd = 1234.56789\n",
    "\n",
    "# Step 2: Round the amount to two decimal places\n",
    "rounded_amount = round(amount_in_usd, 2)\n",
    "\n",
    "# Step 3: Display the rounded amount\n",
    "print(f\"Very amount = ${amount_in_usd}, Amount in USD: ${rounded_amount}\")"
   ]
  }
 ],
 "metadata": {
  "kernelspec": {
   "display_name": ".venv",
   "language": "python",
   "name": "python3"
  },
  "language_info": {
   "codemirror_mode": {
    "name": "ipython",
    "version": 3
   },
   "file_extension": ".py",
   "mimetype": "text/x-python",
   "name": "python",
   "nbconvert_exporter": "python",
   "pygments_lexer": "ipython3",
   "version": "3.12.8"
  }
 },
 "nbformat": 4,
 "nbformat_minor": 2
}
