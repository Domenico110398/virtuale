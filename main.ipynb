{
 "cells": [
  {
   "cell_type": "code",
   "execution_count": 1,
   "metadata": {},
   "outputs": [
    {
     "name": "stdout",
     "output_type": "stream",
     "text": [
      "se ni mondo esistesse un pò di bene\n"
     ]
    }
   ],
   "source": [
    "a = \"se ni mondo\"\n",
    "b = \"esistesse un pò di bene\"\n",
    "print(a + \" \" + b)\n",
    "print(\"Sto nel branch virtuale ma mondifico un file Main\")\n",
    "print(\"andato il merge, male però\")\n",
    "#pacciani"
   ]
  },
  {
   "cell_type": "code",
   "execution_count": 1,
   "metadata": {},
   "outputs": [
    {
     "name": "stdout",
     "output_type": "stream",
     "text": [
      "Enter your Name\n",
      "trre\n",
      "tre\n",
      "Welcome, tre, your username is trre and your code is tre\n"
     ]
    }
   ],
   "source": [
    "print(\"Enter your Name\")\n",
    "while True:\n",
    "    name = input()\n",
    "    if len(name) < 15 and len(name)>3:\n",
    "        break\n",
    "    else:\n",
    "        print(f\"Name length = {len(name)}. Please enter a valid name.\")\n",
    "        \n",
    "\n",
    "username = name[0:2] + name[-2:]\n",
    "print(username)\n",
    "\n",
    "code = name[int(len(name)/2)-1:int(len(name)/2)+2]\n",
    "print(code)\n",
    "\n",
    "print(f\"Welcome, {name}, your username is {username} and your code is {code}\")"
   ]
  },
  {
   "cell_type": "code",
   "execution_count": 4,
   "metadata": {},
   "outputs": [
    {
     "name": "stdout",
     "output_type": "stream",
     "text": [
      "The sky is blue.\n",
      "Today's highlighted word is: SKY\n"
     ]
    }
   ],
   "source": [
    "string = 'The sky is blue.' #quote\n",
    "print(string)   #print the string\n",
    "slice = string[4:7].upper()   #slice the string and convert to uppercase\n",
    "print(f\"Today's highlighted word is: {slice}\")    #print the sliced string"
   ]
  },
  {
   "cell_type": "code",
   "execution_count": 9,
   "metadata": {},
   "outputs": [],
   "source": [
    "def print_a_letter_of(string, index = -1): #definiamo index di defaul nel caso non venga passato\n",
    "    letter = string[index]\n",
    "    print(f\"The letter at index {index} is {letter}\")"
   ]
  },
  {
   "cell_type": "code",
   "execution_count": 11,
   "metadata": {},
   "outputs": [
    {
     "name": "stdout",
     "output_type": "stream",
     "text": [
      "The letter at index 3 is  \n"
     ]
    }
   ],
   "source": [
    "quote = \"The sky is blue.\" #quote\n",
    "print_a_letter_of(quote, 3)"
   ]
  }
 ],
 "metadata": {
  "kernelspec": {
   "display_name": ".venv",
   "language": "python",
   "name": "python3"
  },
  "language_info": {
   "codemirror_mode": {
    "name": "ipython",
    "version": 3
   },
   "file_extension": ".py",
   "mimetype": "text/x-python",
   "name": "python",
   "nbconvert_exporter": "python",
   "pygments_lexer": "ipython3",
   "version": "3.12.8"
  }
 },
 "nbformat": 4,
 "nbformat_minor": 2
}
