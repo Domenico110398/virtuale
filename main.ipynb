{
 "cells": [
  {
   "cell_type": "code",
   "execution_count": 1,
   "metadata": {},
   "outputs": [
    {
     "name": "stdout",
     "output_type": "stream",
     "text": [
      "se ni mondo esistesse un pò di bene\n"
     ]
    }
   ],
   "source": [
    "a = \"se ni mondo\"\n",
    "b = \"esistesse un pò di bene\"\n",
    "print(a + \" \" + b)\n",
    "print(\"Sto nel branch virtuale ma mondifico un file Main\")\n",
    "print(\"andato il merge, male però\")\n",
    "#pacciani"
   ]
  },
  {
   "cell_type": "code",
   "execution_count": 1,
   "metadata": {},
   "outputs": [
    {
     "name": "stdout",
     "output_type": "stream",
     "text": [
      "Enter your Name\n",
      "trre\n",
      "tre\n",
      "Welcome, tre, your username is trre and your code is tre\n"
     ]
    }
   ],
   "source": [
    "print(\"Enter your Name\")\n",
    "while True:\n",
    "    name = input()\n",
    "    if len(name) < 15 and len(name)>3:\n",
    "        break\n",
    "    else:\n",
    "        print(f\"Name length = {len(name)}. Please enter a valid name.\")\n",
    "        \n",
    "\n",
    "username = name[0:2] + name[-2:]\n",
    "print(username)\n",
    "\n",
    "code = name[int(len(name)/2)-1:int(len(name)/2)+2]\n",
    "print(code)\n",
    "\n",
    "print(f\"Welcome, {name}, your username is {username} and your code is {code}\")"
   ]
  },
  {
   "cell_type": "code",
   "execution_count": 4,
   "metadata": {},
   "outputs": [
    {
     "name": "stdout",
     "output_type": "stream",
     "text": [
      "The sky is blue.\n",
      "Today's highlighted word is: SKY\n"
     ]
    }
   ],
   "source": [
    "string = 'The sky is blue.' #quote\n",
    "print(string)   #print the string\n",
    "slice = string[4:7].upper()   #slice the string and convert to uppercase\n",
    "print(f\"Today's highlighted word is: {slice}\")    #print the sliced string"
   ]
  },
  {
   "cell_type": "code",
   "execution_count": 9,
   "metadata": {},
   "outputs": [],
   "source": [
    "def print_a_letter_of(string, index = -1): #definiamo index di defaul nel caso non venga passato\n",
    "    letter = string[index]\n",
    "    print(f\"The letter at index {index} is {letter}\")"
   ]
  },
  {
   "cell_type": "code",
   "execution_count": 11,
   "metadata": {},
   "outputs": [
    {
     "name": "stdout",
     "output_type": "stream",
     "text": [
      "The letter at index 3 is  \n"
     ]
    }
   ],
   "source": [
    "quote = \"The sky is blue.\" #quote\n",
    "print_a_letter_of(quote, 3)"
   ]
  },
  {
   "cell_type": "code",
   "execution_count": 9,
   "metadata": {},
   "outputs": [
    {
     "name": "stdout",
     "output_type": "stream",
     "text": [
      "1 1\n"
     ]
    }
   ],
   "source": [
    "b = 4\n",
    "a = 3\n",
    "c = int(b / a)\n",
    "d = b % a\n",
    "\n",
    "print(c, d)"
   ]
  },
  {
   "cell_type": "code",
   "execution_count": 10,
   "metadata": {},
   "outputs": [
    {
     "name": "stdout",
     "output_type": "stream",
     "text": [
      "35\n"
     ]
    }
   ],
   "source": [
    "numbers = [3, 5, 7, 9, 11]\n",
    "sum = 0\n",
    "\n",
    "for n in numbers:\n",
    "    sum += n\n",
    "\n",
    "print(sum)"
   ]
  },
  {
   "cell_type": "code",
   "execution_count": 13,
   "metadata": {},
   "outputs": [
    {
     "name": "stdout",
     "output_type": "stream",
     "text": [
      "398 / 5 = \n",
      "79.6\n"
     ]
    }
   ],
   "source": [
    "numbers = [83, 85, 72, 63, 95]\n",
    "sum = 0\n",
    "\n",
    "for n in numbers:\n",
    "    sum += n\n",
    "    \n",
    "num = len(numbers)\n",
    "print(str(sum) + \" / \" + str(num) + \" = \")\n",
    "print(sum / num)"
   ]
  },
  {
   "cell_type": "code",
   "execution_count": 14,
   "metadata": {},
   "outputs": [
    {
     "name": "stdout",
     "output_type": "stream",
     "text": [
      "Min price: 5\n",
      "Max price: 25\n"
     ]
    }
   ],
   "source": [
    "prices = [5, 10, 15, 20, 25]\n",
    "\n",
    "print(\"Min price: \" + str(min(prices)))\n",
    "print(\"Max price: \" + str(max(prices)))"
   ]
  },
  {
   "cell_type": "code",
   "execution_count": 23,
   "metadata": {},
   "outputs": [
    {
     "name": "stdout",
     "output_type": "stream",
     "text": [
      "The number of vowels in the sentence is: 11\n"
     ]
    }
   ],
   "source": [
    "# Sentence to analyze\n",
    "sentence = \"The quick brown fox jumps over the lazy dog.\"\n",
    "\n",
    "# Vowels to check\n",
    "vowels = \"aeiouAEIOU\"\n",
    "\n",
    "# Count the vowels in the sentence using builtins.sum\n",
    "vowel_count = 0\n",
    "\n",
    "for char in sentence :\n",
    "    if char in vowels:\n",
    "        vowel_count += 1\n",
    "\n",
    "# Print the result\n",
    "print(f\"The number of vowels in the sentence is: {vowel_count}\")\n"
   ]
  },
  {
   "cell_type": "code",
   "execution_count": 24,
   "metadata": {},
   "outputs": [
    {
     "name": "stdout",
     "output_type": "stream",
     "text": [
      "[1, 3, 5, 7, 9]\n"
     ]
    }
   ],
   "source": [
    "list_of_numbers = [1, 2, 3, 4, 5, 6, 7, 8, 9, 10]\n",
    "list_of_odd_numbers = []\n",
    "\n",
    "for n in list_of_numbers:\n",
    "    if n % 2 != 0:\n",
    "        list_of_odd_numbers.append(n)\n",
    "\n",
    "print(list_of_odd_numbers)"
   ]
  },
  {
   "cell_type": "code",
   "execution_count": 25,
   "metadata": {},
   "outputs": [
    {
     "name": "stdout",
     "output_type": "stream",
     "text": [
      "[1, 3, 5, 7, 9]\n"
     ]
    }
   ],
   "source": [
    "list_of_numbers = [1, 2, 3, 4, 5, 6, 7, 8, 9, 10]\n",
    "\n",
    "for n in list_of_numbers:\n",
    "    if n % 2 == 0:\n",
    "        list_of_numbers.remove(n)\n",
    "\n",
    "print(list_of_numbers)"
   ]
  },
  {
   "cell_type": "code",
   "execution_count": 26,
   "metadata": {},
   "outputs": [
    {
     "name": "stdout",
     "output_type": "stream",
     "text": [
      "['apple', 'banana', 'cherry']\n",
      "[1, 3, 5]\n"
     ]
    }
   ],
   "source": [
    "list = [1, \"apple\", 3, \"banana\", 5, \"cherry\"]\n",
    "\n",
    "fruit_list = []\n",
    "number_list = []\n",
    "\n",
    "for item in list:\n",
    "    if type(item) == str:\n",
    "        fruit_list.append(item)\n",
    "    else:\n",
    "        number_list.append(item)\n",
    "\n",
    "print(fruit_list)\n",
    "print(number_list)"
   ]
  },
  {
   "cell_type": "code",
   "execution_count": 30,
   "metadata": {},
   "outputs": [
    {
     "name": "stdout",
     "output_type": "stream",
     "text": [
      "14.99 Type = <class 'float'>\n",
      "14 Type = <class 'int'>\n",
      "$14 Type = <class 'str'>\n"
     ]
    }
   ],
   "source": [
    "price = 14.99\n",
    "new_price = int(price)\n",
    "price_tag = f\"${new_price}\"\n",
    "\n",
    "print(str(price) + \" Type = \" + str(type(price)))  \n",
    "print(str(new_price) + \" Type = \" + str(type(new_price)))\n",
    "print(str(price_tag) + \" Type = \" + str(type(price_tag)))"
   ]
  },
  {
   "cell_type": "code",
   "execution_count": 35,
   "metadata": {},
   "outputs": [
    {
     "name": "stdout",
     "output_type": "stream",
     "text": [
      "Very amount = $1234.56789, Amount in USD: $1234.57\n"
     ]
    }
   ],
   "source": [
    "amount_in_usd = 1234.56789\n",
    "\n",
    "# Step 2: Round the amount to two decimal places\n",
    "rounded_amount = round(amount_in_usd, 2)\n",
    "\n",
    "# Step 3: Display the rounded amount\n",
    "print(f\"Very amount = ${amount_in_usd}, Amount in USD: ${rounded_amount}\")"
   ]
  },
  {
   "cell_type": "code",
   "execution_count": 4,
   "metadata": {},
   "outputs": [
    {
     "name": "stdout",
     "output_type": "stream",
     "text": [
      "Please enter Tim's score: \n",
      "Fail!\n"
     ]
    }
   ],
   "source": [
    "print(\"Please enter Tim's score: \")\n",
    "score = int(input())\n",
    "\n",
    "if score >= 90:\n",
    "    print(\"Excellent!\")\n",
    "elif score >= 75:\n",
    "    print(\"Very good!\")\n",
    "elif score >= 60:\n",
    "    print(\"Good!\")\n",
    "elif score >= 50:\n",
    "    print(\"Pass!\")\n",
    "else:\n",
    "    print(\"Fail!\")"
   ]
  },
  {
   "cell_type": "code",
   "execution_count": 6,
   "metadata": {},
   "outputs": [
    {
     "name": "stdout",
     "output_type": "stream",
     "text": [
      "Please enter a number: \n",
      "Please enter another number: \n",
      "65 is less than 67\n"
     ]
    }
   ],
   "source": [
    "print(\"Please enter a number: \")\n",
    "number1 = int(input())\n",
    "print(\"Please enter another number: \")\n",
    "number2 = int(input())\n",
    "\n",
    "if number1 > number2:\n",
    "    print(f\"{number1} is greater than {number2}\")\n",
    "elif number1 < number2:\n",
    "    print(f\"{number1} is less than {number2}\")\n",
    "else:\n",
    "    print(f\"{number1} is equal to {number2}\")"
   ]
  },
  {
   "cell_type": "code",
   "execution_count": 29,
   "metadata": {},
   "outputs": [
    {
     "name": "stdout",
     "output_type": "stream",
     "text": [
      "In the simulation, Player A scored more than Player B.\n",
      "Player A's score: 391\n",
      "Player B's score: 338\n"
     ]
    }
   ],
   "source": [
    "import random\n",
    "\n",
    "# Generate random scores\n",
    "scoreA = random.randint(300, 400)\n",
    "scoreB = random.randint(300, 400)\n",
    "\n",
    "# Compare and print the result\n",
    "if scoreA > scoreB:\n",
    "    print(\"In the simulation, Player A scored more than Player B.\")\n",
    "elif scoreB > scoreA:\n",
    "    print(\"In the simulation, Player B scored more than Player A.\")\n",
    "else:\n",
    "    print(\"In the simulation, Player A and Player B have the same score.\")\n",
    "\n",
    "print(f\"Player A's score: {scoreA}\")\n",
    "print(f\"Player B's score: {scoreB}\")\n"
   ]
  },
  {
   "cell_type": "code",
   "execution_count": 3,
   "metadata": {},
   "outputs": [
    {
     "name": "stdout",
     "output_type": "stream",
     "text": [
      "Benvenuto nel gioco! Ho scelto un numero tra 0 e 100. Hai 7 tentativi per indovinarlo.\n",
      "Troppo basso!\n",
      "Troppo basso!\n",
      "Troppo basso!\n",
      "Troppo basso!\n",
      "Troppo basso!\n",
      "Troppo alto!\n",
      "Troppo alto!\n",
      "Mi dispiace, hai esaurito i tentativi. Il numero era 91.\n"
     ]
    }
   ],
   "source": [
    "import random\n",
    "\n",
    "numero_casuale = random.randint(0, 100)\n",
    "\n",
    "print(\"Benvenuto nel gioco! Ho scelto un numero tra 0 e 100. Hai 7 tentativi per indovinarlo.\")\n",
    "\n",
    "tentativi = 0\n",
    "tentativi_massimi = 7\n",
    "lista_tentativi = [] # Lista per memorizzare i tentativi\n",
    "basso = 0\n",
    "alto = 100\n",
    "printLose = True #stampa messaggio di sconfitta\n",
    "\n",
    "while tentativi < tentativi_massimi:\n",
    "    try:\n",
    "        tentativi += 1\n",
    "\n",
    "        numero_utente = int(input(f\"Tentativo {tentativi}/{tentativi_massimi}, numeri precedenti inseriti {lista_tentativi}, il numero è compreso tra {basso} e {alto}; Inserisci un numero: \"))\n",
    "\n",
    "        lista_tentativi.append(numero_utente) #aggiungo il numero alla lista dei tentativi\n",
    "        \n",
    "        if numero_utente == numero_casuale:\n",
    "            print(f\"Complimenti! Hai indovinato il numero {numero_casuale} in {tentativi} tentativi!\")\n",
    "            printLose = False #printLose e False perhcè si è vinto\n",
    "            break #esco dal ciclo con il valore di printLose a False\n",
    "        elif numero_utente < numero_casuale:\n",
    "            print(\"Più basso!\")\n",
    "            basso = numero_utente\n",
    "        else:\n",
    "            print(\"Più alto!\")\n",
    "            alto = numero_utente\n",
    "    except ValueError:\n",
    "        print(\"Inserisci un numero valido!\")\n",
    "        tentativi -= 1\n",
    "        lista_tentativi.remove(numero_utente) #tolgo il numero perchè il tentativo non è valido\n",
    "\n",
    "if printLose: #printLose e True se non è entrato nel ciclo di vittoria\n",
    "    print(f\"Mi dispiace, hai esaurito i tentativi. Il numero era {numero_casuale}.\")\n",
    "\n"
   ]
  },
  {
   "cell_type": "code",
   "execution_count": 30,
   "metadata": {},
   "outputs": [
    {
     "name": "stdout",
     "output_type": "stream",
     "text": [
      "The value of your assets is greater than the absolute value of your debts.\n"
     ]
    }
   ],
   "source": [
    "asset = 5000\n",
    "debt = -3000\n",
    "\n",
    "# Compare the absolute values of asset and debt\n",
    "if abs(asset) > abs(debt):\n",
    "    print(\"The value of your assets is greater than the absolute value of your debts.\")\n",
    "elif abs(debt) > abs(asset):\n",
    "    print(\"The absolute value of your debts is greater than the value of your assets.\")\n",
    "else:\n",
    "    print(\"The value of your assets equals the absolute value of your debts.\")"
   ]
  },
  {
   "cell_type": "code",
   "execution_count": 31,
   "metadata": {},
   "outputs": [
    {
     "name": "stdout",
     "output_type": "stream",
     "text": [
      "Welcome, Domenico from Monopoli!\n"
     ]
    }
   ],
   "source": [
    "name = input(\"Please enter your name: \")\n",
    "city = input(\"Please enter your city: \")\n",
    "\n",
    "# message\n",
    "welcome_message = f\"Welcome, {name} from {city}!\"\n",
    "print(welcome_message)"
   ]
  },
  {
   "cell_type": "code",
   "execution_count": 33,
   "metadata": {},
   "outputs": [
    {
     "name": "stdout",
     "output_type": "stream",
     "text": [
      "Error: Password must be at least 8 characters long.\n"
     ]
    }
   ],
   "source": [
    "password = input(\"Please create a password: \")\n",
    "\n",
    "# Check if the password length is at least 8 characters\n",
    "if len(password) >= 8:\n",
    "    print(\"Password created successfully!\")\n",
    "else:\n",
    "    print(\"Error: Password must be at least 8 characters long.\")"
   ]
  },
  {
   "cell_type": "code",
   "execution_count": 34,
   "metadata": {},
   "outputs": [
    {
     "name": "stdout",
     "output_type": "stream",
     "text": [
      "This is a deposit.\n"
     ]
    }
   ],
   "source": [
    "transaction = float(input(\"Enter the transaction amount: \"))\n",
    "\n",
    "# Categorize the transaction\n",
    "if transaction > 0:\n",
    "    print(\"This is a deposit.\")\n",
    "elif transaction < 0:\n",
    "    print(\"This is a withdrawal.\")\n",
    "else:\n",
    "    print(\"No transaction.\")"
   ]
  },
  {
   "cell_type": "code",
   "execution_count": 38,
   "metadata": {},
   "outputs": [
    {
     "name": "stdout",
     "output_type": "stream",
     "text": [
      "The second mountain is higher.\n"
     ]
    }
   ],
   "source": [
    "mountain1 = float(input(\"Enter the height of the first mountain (in meters): \"))\n",
    "\n",
    "mountain2 = float(input(\"Enter the height of the second mountain (in meters): \"))\n",
    "\n",
    "if mountain1 < 600 or mountain2 < 600:\n",
    "    print(\"Error: Both mountains must have a minimum height of 600 meters.\")\n",
    "else:\n",
    "    # Compare the heights and print the result\n",
    "    if mountain1 > mountain2:\n",
    "        print(\"The first mountain is higher.\")\n",
    "    elif mountain2 > mountain1:\n",
    "        print(\"The second mountain is higher.\")\n",
    "    else:\n",
    "        print(\"Both mountains are of equal height.\")"
   ]
  },
  {
   "cell_type": "code",
   "execution_count": 39,
   "metadata": {},
   "outputs": [
    {
     "name": "stdout",
     "output_type": "stream",
     "text": [
      "The total bill amount is 26.00, which is an even number.\n"
     ]
    }
   ],
   "source": [
    "customer1 = float(input(\"Enter the bill amount for the first customer: \"))\n",
    "customer2 = float(input(\"Enter the bill amount for the second customer: \"))\n",
    "customer3 = float(input(\"Enter the bill amount for the third customer: \"))\n",
    "\n",
    "# Calculate total\n",
    "total_bill = customer1 + customer2 + customer3\n",
    "\n",
    "# Print if the total is even or odd\n",
    "if int(total_bill) % 2 == 0:\n",
    "    print(f\"The total bill amount is {total_bill:.2f}, which is an even number.\")\n",
    "else:\n",
    "    print(f\"The total bill amount is {total_bill:.2f}, which is an odd number.\")"
   ]
  },
  {
   "cell_type": "code",
   "execution_count": 42,
   "metadata": {},
   "outputs": [
    {
     "name": "stdout",
     "output_type": "stream",
     "text": [
      "2020 is a leap year.\n"
     ]
    }
   ],
   "source": [
    "year = int(input(\"Enter a year: \"))\n",
    "\n",
    "if (year % 4 == 0 and year % 100 != 0) or (year % 400 == 0):\n",
    "    print(f\"{year} is a leap year.\")\n",
    "else:\n",
    "    print(f\"{year} is not a leap year.\")"
   ]
  },
  {
   "cell_type": "code",
   "execution_count": 45,
   "metadata": {},
   "outputs": [
    {
     "name": "stdout",
     "output_type": "stream",
     "text": [
      "T is a consonant.\n"
     ]
    }
   ],
   "source": [
    "letter = input(\"Enter a letter: \").upper()\n",
    "\n",
    "# Check letter\n",
    "if letter in \"AEIOU\":\n",
    "    print(f\"{letter} is a vowel.\")\n",
    "elif letter.isalpha():\n",
    "    print(f\"{letter} is a consonant.\")\n",
    "else:\n",
    "    print(\"Please enter a valid letter.\")"
   ]
  },
  {
   "cell_type": "code",
   "execution_count": 46,
   "metadata": {},
   "outputs": [
    {
     "name": "stdout",
     "output_type": "stream",
     "text": [
      "The temperature rose by 1.00°C.\n"
     ]
    }
   ],
   "source": [
    "today_temp = float(input(\"Enter today's temperature in Celsius: \"))\n",
    "yesterday_temp = float(input(\"Enter yesterday's temperature in Celsius: \"))\n",
    "\n",
    "# Calculate change\n",
    "temperature_change = today_temp - yesterday_temp\n",
    "\n",
    "if temperature_change > 0:\n",
    "    print(f\"The temperature rose by {temperature_change:.2f}°C.\")\n",
    "elif temperature_change < 0:\n",
    "    print(f\"The temperature fell by {abs(temperature_change):.2f}°C.\")\n",
    "else:\n",
    "    print(\"The temperature remained the same.\")"
   ]
  },
  {
   "cell_type": "code",
   "execution_count": 47,
   "metadata": {},
   "outputs": [
    {
     "name": "stdout",
     "output_type": "stream",
     "text": [
      "7 is not divisible by both 5 and 11.\n"
     ]
    }
   ],
   "source": [
    "number = int(input(\"Enter a number: \"))\n",
    "\n",
    "# Check the number\n",
    "if number % 5 == 0 and number % 11 == 0:\n",
    "    print(f\"{number} is divisible by both 5 and 11.\")\n",
    "else:\n",
    "    print(f\"{number} is not divisible by both 5 and 11.\")"
   ]
  },
  {
   "cell_type": "code",
   "execution_count": 1,
   "metadata": {},
   "outputs": [
    {
     "name": "stdout",
     "output_type": "stream",
     "text": [
      "*\n",
      "**\n",
      "***\n",
      "****\n",
      "*****\n"
     ]
    }
   ],
   "source": [
    "stars = 1\n",
    "\n",
    "# Use a while loop to generate each line of the pyramid\n",
    "while stars <= 5:  # We'll stop at 5 stars to match the shape\n",
    "    print('*' * stars)  # Print the stars for the current line\n",
    "    stars += 1 "
   ]
  },
  {
   "cell_type": "code",
   "execution_count": 3,
   "metadata": {},
   "outputs": [
    {
     "name": "stdout",
     "output_type": "stream",
     "text": [
      "    *\n",
      "   ***\n",
      "  *****\n",
      " *******\n",
      "*********\n",
      " *******\n",
      "  *****\n",
      "   ***\n",
      "    *\n"
     ]
    }
   ],
   "source": [
    "lines = 5\n",
    "\n",
    "# Upper diamond\n",
    "for i in range(1, lines + 1):\n",
    "    stars = 2 * i - 1\n",
    "    spaces = lines - i\n",
    "    print(' ' * spaces + '*' * stars)\n",
    "\n",
    "# Lower diamond\n",
    "for i in range(lines - 1, 0, -1):\n",
    "    stars = 2 * i - 1\n",
    "    spaces = lines - i\n",
    "    print(' ' * spaces + '*' * stars)"
   ]
  },
  {
   "cell_type": "code",
   "execution_count": 5,
   "metadata": {},
   "outputs": [
    {
     "name": "stdout",
     "output_type": "stream",
     "text": [
      "Do Training.\n",
      "Do Work.\n",
      "It's time for a coffee break!\n"
     ]
    }
   ],
   "source": [
    "activities = [\"Training\", \"Work\", \"COFFEE BREAK\", \"Meeting\", \"Exercise\"]\n",
    "\n",
    "for activity in activities:\n",
    "    if activity == \"COFFEE BREAK\":\n",
    "        print(\"It's time for a coffee break!\")\n",
    "        break\n",
    "    else:\n",
    "        print(f\"Do {activity}.\")"
   ]
  },
  {
   "cell_type": "code",
   "execution_count": 6,
   "metadata": {},
   "outputs": [
    {
     "name": "stdout",
     "output_type": "stream",
     "text": [
      "List1 elements:\n",
      "Lion\n",
      "Elephant\n",
      "Shark\n",
      "\n",
      "Tuple1 elements:\n",
      "Eagle\n",
      "Dolphin\n",
      "Penguin\n",
      "\n",
      "Set1 elements:\n",
      "Snake\n",
      "Whale\n",
      "Tiger\n",
      "\n",
      "Animals that live on land:\n",
      "Lion lives in Land\n",
      "Eagle lives in Land\n",
      "Elephant lives in Land\n",
      "Penguin lives in Land\n"
     ]
    }
   ],
   "source": [
    "list1 = [\"Lion\", \"Elephant\", \"Shark\"]\n",
    "tuple1 = (\"Eagle\", \"Dolphin\", \"Penguin\")\n",
    "set1 = {\"Whale\", \"Snake\", \"Tiger\"}\n",
    "dict1 = {\n",
    "    \"Lion\": \"Land\",\n",
    "    \"Shark\": \"Water\",\n",
    "    \"Eagle\": \"Land\",\n",
    "    \"Dolphin\": \"Water\",\n",
    "    \"Elephant\": \"Land\",\n",
    "    \"Penguin\": \"Land\"\n",
    "}\n",
    "\n",
    "# Iterating through list1, tuple1, and set1\n",
    "print(\"List1 elements:\")\n",
    "for item in list1:\n",
    "    print(item)\n",
    "\n",
    "print(\"\\nTuple1 elements:\")\n",
    "for item in tuple1:\n",
    "    print(item)\n",
    "\n",
    "print(\"\\nSet1 elements:\")\n",
    "for item in set1:\n",
    "    print(item)\n",
    "\n",
    "# Iterating through dict1 and printing animals that live on land\n",
    "print(\"\\nAnimals that live on land:\")\n",
    "for animal, habitat in dict1.items():\n",
    "    if habitat == \"Land\":\n",
    "        print(f\"{animal} lives in {habitat}\")"
   ]
  },
  {
   "cell_type": "code",
   "execution_count": null,
   "metadata": {},
   "outputs": [
    {
     "name": "stdout",
     "output_type": "stream",
     "text": [
      "Valore nullo\n",
      "Ottimo\n"
     ]
    }
   ],
   "source": [
    "#funzione controllo numero\n",
    "def controlloNum(num):\n",
    "    if num is not None:\n",
    "        if num > 0:\n",
    "            if num < 6:\n",
    "                print(\"Insufficiente\")\n",
    "            elif num == 6:\n",
    "                print(\"Sufficente\")\n",
    "            elif num == 7:\n",
    "                print(\"Buono\")\n",
    "            elif num == 8:\n",
    "                print(\"Ottimo\")\n",
    "            elif num == 9:\n",
    "                print(\"Distinto\")\n",
    "            elif num == 10:\n",
    "                print(\"Eccellente\")\n",
    "            else:\n",
    "                print(\"Valore tropo alto\")\n",
    "                controlloNum(inserisciNum())\n",
    "        else:\n",
    "            print(\"Non è un numero\")\n",
    "            controlloNum(inserisciNum())\n",
    "    else:\n",
    "        print(\"Valore non valido o nullo\")\n",
    "        controlloNum(inserisciNum())\n",
    "\n",
    "def inserisciNum():\n",
    "    try:\n",
    "        numero = int(input(\"Enter a number: \"))\n",
    "    except ValueError:\n",
    "        numero = None\n",
    "    \n",
    "    return numero\n",
    "\n",
    "controlloNum(inserisciNum())\n"
   ]
  },
  {
   "cell_type": "code",
   "execution_count": 1,
   "metadata": {},
   "outputs": [],
   "source": [
    "def count_letter_occrrences(strnga):\n",
    "    letter_count_dizionario = {}\n",
    "    \n",
    "    for letter in strnga:\n",
    "        if letter in letter_count_dizionario:\n",
    "            letter_count_dizionario[letter] += 1\n",
    "        else:\n",
    "            letter_count_dizionario[letter] = 1\n",
    "    return letter_count_dizionario"
   ]
  },
  {
   "cell_type": "code",
   "execution_count": 2,
   "metadata": {},
   "outputs": [
    {
     "name": "stdout",
     "output_type": "stream",
     "text": [
      "{'c': 2, 'i': 2, 'a': 2, 'o': 2, ' ': 2, 'm': 1, 'e': 1, 's': 1, 't': 1}\n"
     ]
    }
   ],
   "source": [
    "occurences_dizionario = count_letter_occrrences(\"ciao come stai\")\n",
    "print(occurences_dizionario)"
   ]
  },
  {
   "cell_type": "code",
   "execution_count": 10,
   "metadata": {},
   "outputs": [],
   "source": [
    "def vendi(name, diz):\n",
    "    if diz[name] > 0:\n",
    "        print(f\"Vendi {name}\")\n",
    "        diz[name] -= 1\n",
    "    else:\n",
    "        print(f\"Prodotto esaurito: {name}\")\n",
    "    return diz\n",
    "    "
   ]
  },
  {
   "cell_type": "code",
   "execution_count": 9,
   "metadata": {},
   "outputs": [],
   "source": [
    "def compra(name, diz):\n",
    "    print(f\"Compra {name}\")\n",
    "    if name in diz:\n",
    "        diz[name] += 1\n",
    "    else:\n",
    "        diz[name] = 1\n",
    "    return diz"
   ]
  },
  {
   "cell_type": "code",
   "execution_count": 7,
   "metadata": {},
   "outputs": [
    {
     "name": "stdout",
     "output_type": "stream",
     "text": [
      "Vendi jeans\n",
      "Compra t-shirt\n",
      "Compra jeans\n",
      "Vendi hat\n",
      "Vendi hat\n",
      "Prodotto esaurito\n",
      "Compra camicia\n",
      "{'jeans': 5, 't-shirt': 4, 'shoes': 2, 'hat': 0, 'socks': 4, 'camicia': 1}\n"
     ]
    }
   ],
   "source": [
    "store = {\"jeans\": 5, \"t-shirt\": 3, \"shoes\": 2, \"hat\": 1, \"socks\": 4}\n",
    "\n",
    "store = vendi(\"jeans\", store)\n",
    "store = compra(\"t-shirt\", store)\n",
    "store = compra(\"jeans\", store)\n",
    "store = vendi(\"hat\", store)\n",
    "store = vendi(\"hat\", store)\n",
    "store = compra(\"camicia\", store)\n",
    "print(store)"
   ]
  }
 ],
 "metadata": {
  "kernelspec": {
   "display_name": ".venv",
   "language": "python",
   "name": "python3"
  },
  "language_info": {
   "codemirror_mode": {
    "name": "ipython",
    "version": 3
   },
   "file_extension": ".py",
   "mimetype": "text/x-python",
   "name": "python",
   "nbconvert_exporter": "python",
   "pygments_lexer": "ipython3",
   "version": "3.12.8"
  }
 },
 "nbformat": 4,
 "nbformat_minor": 2
}
