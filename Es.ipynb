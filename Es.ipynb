{
 "cells": [
  {
   "cell_type": "code",
   "execution_count": null,
   "metadata": {},
   "outputs": [],
   "source": [
    "def insert_data(dati_necessari):\n",
    "    dati = {}\n",
    "    for i in dati_necessari:\n",
    "        dati[i] = input(f\"Inserisci {i}: \")\n",
    "    return dati"
   ]
  },
  {
   "cell_type": "code",
   "execution_count": 1,
   "metadata": {},
   "outputs": [
    {
     "name": "stdout",
     "output_type": "stream",
     "text": [
      "{'1': {'Nome': 'Elone', 'Cognome': 'Maschera', 'email': 'eloneMaschera@gmail.com'}, '2': {'Nome': 'Giovanni', 'Cognome': 'Maschera'}, '3': {'Nome': 'Alessandro', 'Cognome': 'Ellenico', 'email': 'uomoInvisibile@grecia.com', 'password': 'Insicura'}}\n"
     ]
    }
   ],
   "source": [
    "clienti = {}\n",
    "\n",
    "cliente1 = {\"Nome\":\"Elone\", \"Cognome\":\"Maschera\", \"email\":\"eloneMaschera@gmail.com\"}\n",
    "clienti[\"1\"] = cliente1\n",
    "\n",
    "cliente2 = {\"Nome\":\"Giovanni\", \"Cognome\":\"Maschera\"}\n",
    "clienti[\"2\"] = cliente2\n",
    "\n",
    "cliente3 = {\"Nome\":\"Alessandro\", \"Cognome\":\"Ellenico\", \"email\":\"uomoInvisibile@grecia.com\", \"password\":\"Insicura\"}\n",
    "clienti[\"3\"] = cliente3\n",
    "\n",
    "print(clienti)"
   ]
  }
 ],
 "metadata": {
  "kernelspec": {
   "display_name": ".venv",
   "language": "python",
   "name": "python3"
  },
  "language_info": {
   "codemirror_mode": {
    "name": "ipython",
    "version": 3
   },
   "file_extension": ".py",
   "mimetype": "text/x-python",
   "name": "python",
   "nbconvert_exporter": "python",
   "pygments_lexer": "ipython3",
   "version": "3.12.8"
  }
 },
 "nbformat": 4,
 "nbformat_minor": 2
}
