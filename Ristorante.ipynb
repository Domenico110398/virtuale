{
 "cells": [
  {
   "cell_type": "code",
   "execution_count": null,
   "metadata": {},
   "outputs": [],
   "source": [
    "from datetime import datetime, timedelta\n",
    "\n",
    "database_tavoli = {\"table1\" : {\"numero_posti\" : 2, \"prenotato\" : False, \"orario_prenotazione\" : None},\n",
    "                   \"table2\" : {\"numero_posti\" : 2, \"prenotato\" : False, \"orario_prenotazione\" : None},\n",
    "                    \"table3\" : {\"numero_posti\" : 2, \"prenotato\" : False, \"orario_prenotazione\" : None},\n",
    "                    \"table4\" : {\"numero_posti\" : 4, \"prenotato\" : False, \"orario_prenotazione\" : None},\n",
    "                    \"table5\" : {\"numero_posti\" : 4, \"prenotato\" : False, \"orario_prenotazione\" : None},\n",
    "                    \"table6\" : {\"numero_posti\" : 6, \"prenotato\" : False, \"orario_prenotazione\" : None},\n",
    "                    \"table7\" : {\"numero_posti\" : 6, \"prenotato\" : False, \"orario_prenotazione\" : None},\n",
    "                    \"table8\" : {\"numero_posti\" : 8, \"prenotato\" : False, \"orario_prenotazione\" : None},\n",
    "                    \"table9\" : {\"numero_posti\" : 10, \"prenotato\" : False, \"orario_prenotazione\" : None}\n",
    "                    }\n",
    "#check tavoli disponibili\n",
    "def get_candidate(n_request):\n",
    "    candidate_tables = []\n",
    "    for table, value in database_tavoli.items():\n",
    "        if value[\"numero_posti\"] >= n_request and value[\"numero_posti\"] <= (n_request+2):\n",
    "            candidate_tables.insert(0,table)\n",
    "        elif n_request + 2 < value[\"numero_posti\"] < n_request + 4:\n",
    "            candidate_tables.append(table)\n",
    "    \n",
    "    return candidate_tables"
   ]
  },
  {
   "cell_type": "code",
   "execution_count": null,
   "metadata": {},
   "outputs": [],
   "source": [
    "#check orario\n",
    "def get_time_avaiability(table, time_request):\n",
    "    check_ins = database_tavoli[table][\"orario_prenotazione\"]   #orari prenotazioni\n",
    "\n",
    "    if database_tavoli[table][\"orario_prenotazione\"] == None:   #nessuna prenotazione\n",
    "        return table\n",
    "    \n",
    "    #prima o dopo gli estremi\n",
    "    if time_request <= check_ins[0] - timedelta(hours=2):\n",
    "            return table\n",
    "    elif time_request >= check_ins[-1] + timedelta(hours=2):\n",
    "            return table\n",
    "\n",
    "    #nel mezzo (più di due orari prenotati)\n",
    "    for i, check_in in enumerate(check_ins):\n",
    "        if len(check_ins) >= 2 and i != len(check_ins):\n",
    "            prec = check_in\n",
    "            succ = check_ins[i+1]\n",
    "            if prec - timedelta(hours=2) <= time_request <= succ + timedelta(hours=2):\n",
    "                return table\n",
    "        else:\n",
    "            print(\"tavolo non disponibile\")\n",
    "            return False"
   ]
  },
  {
   "cell_type": "code",
   "execution_count": null,
   "metadata": {},
   "outputs": [],
   "source": [
    "def confirm_book_table(table, time):\n",
    "    if database_tavoli[table][\"orari_prenotazione\"]:\n",
    "        database_tavoli[table][\"orari_prenotazione\"] = database_tavoli[table][\"orari_prenotazione\"].append(time).sort()\n",
    "    else:\n",
    "        database_tavoli[table][\"orari_prenotazione\"] = [time]"
   ]
  },
  {
   "cell_type": "code",
   "execution_count": null,
   "metadata": {},
   "outputs": [],
   "source": [
    "#check prenotazione\n",
    "def book_table(time, people):\n",
    "    time = datetime.strptime(time, \"%H:%M\").time()\n",
    "\n",
    "    compatible_tables = get_candidate(people)\n",
    "\n",
    "    if not compatible_tables:\n",
    "        print(\"we not spost Table\")\n",
    "        return\n",
    "    \n",
    "    for table in compatible_tables:\n",
    "        avaiable_table = get_time_avaiability(table, time)\n",
    "        if avaiable_table:\n",
    "            print(\"Your table avaiable\")\n",
    "            book = input(\"Confirm? [Y/N]\").lower() == \"y\"\n",
    "            if book:\n",
    "                confirm_book_table(table, time)\n",
    "                return\n",
    "    \n",
    "    print(\"you are not welcome\")"
   ]
  }
 ],
 "metadata": {
  "kernelspec": {
   "display_name": ".venv",
   "language": "python",
   "name": "python3"
  },
  "language_info": {
   "name": "python",
   "version": "3.12.8"
  }
 },
 "nbformat": 4,
 "nbformat_minor": 2
}
