{
 "cells": [
  {
   "cell_type": "code",
   "execution_count": 18,
   "metadata": {},
   "outputs": [],
   "source": [
    "def input_dati():\n",
    "    is_active = bool(input(\"sei un utente Attivo?: [True/False]\" ))\n",
    "    num_purchase = int(input(\"Quanti acquistati hai effettuato? \"))\n",
    "    tot_amount = float(input(\"Qual é il tuo totale speso? \"))\n",
    "    has_suspended_account = bool(input(\"il tuo account è sospeso?: [True/False]\" ))\n",
    "    age = int(input(\"Quanti anni hai? \"))\n",
    "    print(\"Dati inseriti: \")\n",
    "    print(\"Utente attivo: \", is_active)\n",
    "    print(\"Numero acquisti: \", num_purchase)\n",
    "    print(\"Totale speso: \", tot_amount)\n",
    "    print(\"Account sospeso: \", has_suspended_account)\n",
    "    print(\"Età: \", age)\n",
    "    return is_active, num_purchase, tot_amount, has_suspended_account, age"
   ]
  },
  {
   "cell_type": "code",
   "execution_count": 19,
   "metadata": {},
   "outputs": [],
   "source": [
    "def valuta_accesso(is_active, num_purchase, tot_amount, has_suspended_account):\n",
    "    if is_active and num_purchase > 3 and tot_amount > 100.50 and has_suspended_account == False:\n",
    "        return True\n",
    "    else:\n",
    "        return False"
   ]
  },
  {
   "cell_type": "code",
   "execution_count": 20,
   "metadata": {},
   "outputs": [],
   "source": [
    "def calculate_discount(is_active, as_suspended_account, age):\n",
    "    if is_active == True and as_suspended_account == False:\n",
    "        discount = 30 - age\n",
    "        if discount < 0:\n",
    "            return 0\n",
    "        else:\n",
    "            return discount\n",
    "    else:\n",
    "        return 0"
   ]
  },
  {
   "cell_type": "code",
   "execution_count": 21,
   "metadata": {},
   "outputs": [
    {
     "name": "stdout",
     "output_type": "stream",
     "text": [
      "Benvenuto nel nostro sito\n",
      "Dati inseriti: \n",
      "Utente attivo:  True\n",
      "Numero acquisti:  6\n",
      "Totale speso:  123.0\n",
      "Account sospeso:  True\n",
      "Età:  26\n",
      "dati (True, 6, 123.0, True, 26)\n",
      "access offer False\n",
      "discount offer 0\n"
     ]
    }
   ],
   "source": [
    "print(\"Benvenuto nel nostro sito\")\n",
    "data = input_dati()\n",
    "access = valuta_accesso(data[0], data[1], data[2], data[3])\n",
    "discount_user = calculate_discount(data[0], data[3], data[4])\n",
    "print(f\"dati {data}\")\n",
    "print(f\"access offer {access}\")\n",
    "print(f\"discount offer {discount_user}\")"
   ]
  }
 ],
 "metadata": {
  "kernelspec": {
   "display_name": ".venv",
   "language": "python",
   "name": "python3"
  },
  "language_info": {
   "codemirror_mode": {
    "name": "ipython",
    "version": 3
   },
   "file_extension": ".py",
   "mimetype": "text/x-python",
   "name": "python",
   "nbconvert_exporter": "python",
   "pygments_lexer": "ipython3",
   "version": "3.12.8"
  }
 },
 "nbformat": 4,
 "nbformat_minor": 2
}
