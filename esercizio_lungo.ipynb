{
 "cells": [
  {
   "cell_type": "code",
   "execution_count": 6,
   "metadata": {},
   "outputs": [],
   "source": [
    "def input_dati():\n",
    "    is_active = input(\"sei un utente Attivo?: [Y/N]\" )\n",
    "    num_purchase = int(input(\"Quanti acquistati hai effettuato? \"))\n",
    "    tot_amount = float(input(\"Qual é il tuo totale speso? \"))\n",
    "    has_suspended_account = input(\"il tuo account è sospeso?: [Y/N]\" )\n",
    "    age = int(input(\"Quanti anni hai? \"))\n",
    "\n",
    "    # Controllo input is_active\n",
    "    if is_active.lower() == \"y\":\n",
    "        is_active = True\n",
    "    elif is_active.lower() == \"n\":\n",
    "        is_active = False\n",
    "    else:\n",
    "        print(\"Valore non valido\")\n",
    "        return None\n",
    "    \n",
    "    # Controllo input has_suspended_account\n",
    "    if has_suspended_account.lower() == \"y\":\n",
    "        has_suspended_account = True\n",
    "    elif has_suspended_account.lower() == \"n\":\n",
    "        has_suspended_account = False\n",
    "    else:\n",
    "        print(\"Valore non valido\")\n",
    "        return None\n",
    "    \n",
    "    print(\"Dati inseriti: \")\n",
    "    print(\"Utente attivo: \", is_active)\n",
    "    print(\"Numero acquisti: \", num_purchase)\n",
    "    print(\"Totale speso: \", tot_amount)\n",
    "    print(\"Account sospeso: \", has_suspended_account)\n",
    "    print(\"Età: \", age)\n",
    "    return is_active, num_purchase, tot_amount, has_suspended_account, age"
   ]
  },
  {
   "cell_type": "code",
   "execution_count": 7,
   "metadata": {},
   "outputs": [],
   "source": [
    "def valuta_accesso(is_active, num_purchase, tot_amount, has_suspended_account):\n",
    "    if is_active and num_purchase > 3 and tot_amount > 100.50 and not has_suspended_account:\n",
    "        return True\n",
    "    else:\n",
    "        return False"
   ]
  },
  {
   "cell_type": "code",
   "execution_count": 8,
   "metadata": {},
   "outputs": [],
   "source": [
    "def calculate_discount(is_active, as_suspended_account, age):\n",
    "    if is_active and not as_suspended_account:\n",
    "        discount = 30 - age\n",
    "        if discount < 0:\n",
    "            return 0\n",
    "        else:\n",
    "            return discount\n",
    "    else:\n",
    "        return 0"
   ]
  },
  {
   "cell_type": "code",
   "execution_count": 9,
   "metadata": {},
   "outputs": [
    {
     "name": "stdout",
     "output_type": "stream",
     "text": [
      "Benvenuto nel nostro sito\n",
      "Dati inseriti: \n",
      "Utente attivo:  True\n",
      "Numero acquisti:  11\n",
      "Totale speso:  123.5\n",
      "Account sospeso:  False\n",
      "Età:  26\n",
      "dati ('True', 11, 123.5, 'False', 26)\n",
      "access offer True\n",
      "discount offer 4\n"
     ]
    }
   ],
   "source": [
    "print(\"Benvenuto nel nostro sito\")\n",
    "data = input_dati()\n",
    "access = valuta_accesso(data[0], data[1], data[2], data[3])\n",
    "discount_user = calculate_discount(data[0], data[3], data[4])\n",
    "print(f\"dati {data}\")\n",
    "print(f\"access offer {access}\")\n",
    "print(f\"discount offer {discount_user}\")"
   ]
  },
  {
   "cell_type": "code",
   "execution_count": 1,
   "metadata": {},
   "outputs": [
    {
     "data": {
      "text/plain": [
       "True"
      ]
     },
     "execution_count": 1,
     "metadata": {},
     "output_type": "execute_result"
    }
   ],
   "source": [
    "string = \"bool true\"\n",
    "bool(string)"
   ]
  },
  {
   "cell_type": "code",
   "execution_count": 2,
   "metadata": {},
   "outputs": [
    {
     "data": {
      "text/plain": [
       "False"
      ]
     },
     "execution_count": 2,
     "metadata": {},
     "output_type": "execute_result"
    }
   ],
   "source": [
    "s = \"\" # stringa vuota\n",
    "bool(s)"
   ]
  },
  {
   "cell_type": "code",
   "execution_count": 3,
   "metadata": {},
   "outputs": [
    {
     "name": "stdout",
     "output_type": "stream",
     "text": [
      "n1 è False None\n",
      "n2 è True 2\n"
     ]
    }
   ],
   "source": [
    "def func(parameter):\n",
    "    if parameter == 0:\n",
    "        return\n",
    "    else:\n",
    "        parameter * 2\n",
    "        return parameter\n",
    "    \n",
    "n1 = func(0)\n",
    "\n",
    "n2 = func(2)\n",
    "\n",
    "if bool(n1):\n",
    "    print(f\"n1 è True {n1}\")\n",
    "else:\n",
    "    print(f\"n1 è False {n1}\")\n",
    "\n",
    "if bool(n2):\n",
    "    print(f\"n2 è True {n2}\")\n",
    "else:\n",
    "    print(f\"n2 è False {n2}\")"
   ]
  }
 ],
 "metadata": {
  "kernelspec": {
   "display_name": ".venv",
   "language": "python",
   "name": "python3"
  },
  "language_info": {
   "codemirror_mode": {
    "name": "ipython",
    "version": 3
   },
   "file_extension": ".py",
   "mimetype": "text/x-python",
   "name": "python",
   "nbconvert_exporter": "python",
   "pygments_lexer": "ipython3",
   "version": "3.12.8"
  }
 },
 "nbformat": 4,
 "nbformat_minor": 2
}
