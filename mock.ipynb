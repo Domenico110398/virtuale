{
 "cells": [
  {
   "cell_type": "code",
   "execution_count": 4,
   "metadata": {},
   "outputs": [],
   "source": [
    "stringa_lunga = \"se ni mondo esistesse un pò di bene ci sarebbero meno pene\""
   ]
  },
  {
   "cell_type": "code",
   "execution_count": 5,
   "metadata": {},
   "outputs": [],
   "source": [
    "def upper_odd(string):\n",
    "    n = 0\n",
    "    stringa_vuota = \"\"\n",
    "\n",
    "    for c in string:\n",
    "        if (n % 2 == 0):\n",
    "            stringa_vuota += c.upper()\n",
    "        else:\n",
    "            stringa_vuota += c\n",
    "        \n",
    "        n += 1\n",
    "\n",
    "    print(f\"Stringa convertita: {stringa_vuota}\")"
   ]
  },
  {
   "cell_type": "code",
   "execution_count": 6,
   "metadata": {},
   "outputs": [
    {
     "name": "stdout",
     "output_type": "stream",
     "text": [
      "Stringa convertita: Se nI MoNdO EsIsTeSsE Un pÒ Di bEnE Ci sArEbBeRo mEnO PeNe\n"
     ]
    }
   ],
   "source": [
    "upper_odd(stringa_lunga)"
   ]
  }
 ],
 "metadata": {
  "kernelspec": {
   "display_name": ".venv",
   "language": "python",
   "name": "python3"
  },
  "language_info": {
   "codemirror_mode": {
    "name": "ipython",
    "version": 3
   },
   "file_extension": ".py",
   "mimetype": "text/x-python",
   "name": "python",
   "nbconvert_exporter": "python",
   "pygments_lexer": "ipython3",
   "version": "3.12.8"
  }
 },
 "nbformat": 4,
 "nbformat_minor": 2
}
